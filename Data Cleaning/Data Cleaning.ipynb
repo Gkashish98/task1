{
 "cells": [
  {
   "cell_type": "code",
   "execution_count": 1,
   "id": "69c14a0d-d637-4b7e-8714-31fb531b4954",
   "metadata": {},
   "outputs": [],
   "source": [
    "\n",
    "import pandas as pd\n",
    "import matplotlib.pyplot as plt\n",
    "import seaborn as sns\n",
    "import os\n",
    "\n",
    "\n",
    "import re"
   ]
  },
  {
   "cell_type": "code",
   "execution_count": 2,
   "id": "c46b06dc-b9f5-4b9f-b52b-7f9b01ff7200",
   "metadata": {},
   "outputs": [],
   "source": [
    "#create a dataframe from csv file\n",
    "\n",
    "cwd = os.getcwd()\n",
    "\n",
    "df = pd.read_csv(cwd+\"/BA_reviews.csv\", index_col=0)"
   ]
  },
  {
   "cell_type": "code",
   "execution_count": 3,
   "id": "888d1113-bafd-4e6c-a020-c0e7b721ce50",
   "metadata": {},
   "outputs": [
    {
     "data": {
      "text/html": [
       "<div>\n",
       "<style scoped>\n",
       "    .dataframe tbody tr th:only-of-type {\n",
       "        vertical-align: middle;\n",
       "    }\n",
       "\n",
       "    .dataframe tbody tr th {\n",
       "        vertical-align: top;\n",
       "    }\n",
       "\n",
       "    .dataframe thead th {\n",
       "        text-align: right;\n",
       "    }\n",
       "</style>\n",
       "<table border=\"1\" class=\"dataframe\">\n",
       "  <thead>\n",
       "    <tr style=\"text-align: right;\">\n",
       "      <th></th>\n",
       "      <th>reviews</th>\n",
       "      <th>stars</th>\n",
       "      <th>date</th>\n",
       "      <th>country</th>\n",
       "    </tr>\n",
       "  </thead>\n",
       "  <tbody>\n",
       "    <tr>\n",
       "      <th>0</th>\n",
       "      <td>Not Verified | Worst experience ever. Outbound...</td>\n",
       "      <td>5.0</td>\n",
       "      <td>7th November 2022</td>\n",
       "      <td>Italy</td>\n",
       "    </tr>\n",
       "    <tr>\n",
       "      <th>1</th>\n",
       "      <td>✅ Trip Verified |  Check in was a shambles at ...</td>\n",
       "      <td>1.0</td>\n",
       "      <td>7th November 2022</td>\n",
       "      <td>Malaysia</td>\n",
       "    </tr>\n",
       "    <tr>\n",
       "      <th>2</th>\n",
       "      <td>✅ Trip Verified | Beyond disgusted with the fa...</td>\n",
       "      <td>5.0</td>\n",
       "      <td>5th November 2022</td>\n",
       "      <td>United Arab Emirates</td>\n",
       "    </tr>\n",
       "    <tr>\n",
       "      <th>3</th>\n",
       "      <td>✅ Trip Verified | On July 19th 2022 I had subm...</td>\n",
       "      <td>1.0</td>\n",
       "      <td>31st October 2022</td>\n",
       "      <td>United States</td>\n",
       "    </tr>\n",
       "    <tr>\n",
       "      <th>4</th>\n",
       "      <td>✅ Trip Verified |  I booked the flight on Oct ...</td>\n",
       "      <td>1.0</td>\n",
       "      <td>31st October 2022</td>\n",
       "      <td>United States</td>\n",
       "    </tr>\n",
       "  </tbody>\n",
       "</table>\n",
       "</div>"
      ],
      "text/plain": [
       "                                             reviews  stars  \\\n",
       "0  Not Verified | Worst experience ever. Outbound...    5.0   \n",
       "1  ✅ Trip Verified |  Check in was a shambles at ...    1.0   \n",
       "2  ✅ Trip Verified | Beyond disgusted with the fa...    5.0   \n",
       "3  ✅ Trip Verified | On July 19th 2022 I had subm...    1.0   \n",
       "4  ✅ Trip Verified |  I booked the flight on Oct ...    1.0   \n",
       "\n",
       "                date               country  \n",
       "0  7th November 2022                 Italy  \n",
       "1  7th November 2022              Malaysia  \n",
       "2  5th November 2022  United Arab Emirates  \n",
       "3  31st October 2022         United States  \n",
       "4  31st October 2022         United States  "
      ]
     },
     "execution_count": 3,
     "metadata": {},
     "output_type": "execute_result"
    }
   ],
   "source": [
    "df.head()"
   ]
  },
  {
   "cell_type": "code",
   "execution_count": 4,
   "id": "45908798-e042-4d71-8e01-395f53f2005d",
   "metadata": {},
   "outputs": [],
   "source": [
    "df['verified'] = df.reviews.str.contains(\"Trip Verified\")"
   ]
  },
  {
   "cell_type": "code",
   "execution_count": 5,
   "id": "ae4e6e23-4ecc-4c94-8526-5f645ff2f6a2",
   "metadata": {},
   "outputs": [
    {
     "data": {
      "text/plain": [
       "0       False\n",
       "1        True\n",
       "2        True\n",
       "3        True\n",
       "4        True\n",
       "        ...  \n",
       "3413    False\n",
       "3414    False\n",
       "3415    False\n",
       "3416    False\n",
       "3417    False\n",
       "Name: verified, Length: 3418, dtype: bool"
      ]
     },
     "execution_count": 5,
     "metadata": {},
     "output_type": "execute_result"
    }
   ],
   "source": [
    "df['verified']"
   ]
  },
  {
   "cell_type": "code",
   "execution_count": 6,
   "id": "e4319089-b957-4b60-8f07-fc8cd3487f9e",
   "metadata": {},
   "outputs": [],
   "source": [
    "#for lemmatization of words we will use nltk library\n",
    "from nltk.stem import WordNetLemmatizer\n",
    "from nltk.corpus import stopwords\n",
    "lemma = WordNetLemmatizer()\n",
    "\n",
    "\n",
    "\n",
    "reviews_data = df.reviews.str.strip(\"✅ Trip Verified |\")\n",
    "\n",
    "#create an empty list to collect cleaned data corpus\n",
    "corpus =[]\n",
    "\n",
    "#loop through each review, remove punctuations, small case it, join it and add it to corpus\n",
    "for rev in reviews_data:\n",
    "    rev = re.sub('[^a-zA-Z]',' ', rev)\n",
    "    rev = rev.lower()\n",
    "    rev = rev.split()\n",
    "    rev = [lemma.lemmatize(word) for word in rev if word not in set(stopwords.words(\"english\"))]\n",
    "    rev = \" \".join(rev)\n",
    "    corpus.append(rev)"
   ]
  },
  {
   "cell_type": "code",
   "execution_count": 7,
   "id": "835b9930-20e0-4d79-8a88-a5737309b4ce",
   "metadata": {},
   "outputs": [],
   "source": [
    "# add the corpus to the original dataframe\n",
    "\n",
    "df['corpus'] = corpus"
   ]
  },
  {
   "cell_type": "code",
   "execution_count": 11,
   "id": "baa16beb-4ac5-4850-a46a-0ae11d64cf3d",
   "metadata": {},
   "outputs": [
    {
     "data": {
      "text/html": [
       "<div>\n",
       "<style scoped>\n",
       "    .dataframe tbody tr th:only-of-type {\n",
       "        vertical-align: middle;\n",
       "    }\n",
       "\n",
       "    .dataframe tbody tr th {\n",
       "        vertical-align: top;\n",
       "    }\n",
       "\n",
       "    .dataframe thead th {\n",
       "        text-align: right;\n",
       "    }\n",
       "</style>\n",
       "<table border=\"1\" class=\"dataframe\">\n",
       "  <thead>\n",
       "    <tr style=\"text-align: right;\">\n",
       "      <th></th>\n",
       "      <th>reviews</th>\n",
       "      <th>stars</th>\n",
       "      <th>date</th>\n",
       "      <th>country</th>\n",
       "      <th>verified</th>\n",
       "      <th>corpus</th>\n",
       "    </tr>\n",
       "  </thead>\n",
       "  <tbody>\n",
       "    <tr>\n",
       "      <th>0</th>\n",
       "      <td>Not Verified | Worst experience ever. Outbound...</td>\n",
       "      <td>5.0</td>\n",
       "      <td>7th November 2022</td>\n",
       "      <td>Italy</td>\n",
       "      <td>False</td>\n",
       "      <td>verified worst experience ever outbound flight...</td>\n",
       "    </tr>\n",
       "    <tr>\n",
       "      <th>1</th>\n",
       "      <td>✅ Trip Verified |  Check in was a shambles at ...</td>\n",
       "      <td>1.0</td>\n",
       "      <td>7th November 2022</td>\n",
       "      <td>Malaysia</td>\n",
       "      <td>True</td>\n",
       "      <td>check shamble bwi counter open full flight bag...</td>\n",
       "    </tr>\n",
       "    <tr>\n",
       "      <th>2</th>\n",
       "      <td>✅ Trip Verified | Beyond disgusted with the fa...</td>\n",
       "      <td>5.0</td>\n",
       "      <td>5th November 2022</td>\n",
       "      <td>United Arab Emirates</td>\n",
       "      <td>True</td>\n",
       "      <td>beyond disgusted fact baggage yet delivered we...</td>\n",
       "    </tr>\n",
       "    <tr>\n",
       "      <th>3</th>\n",
       "      <td>✅ Trip Verified | On July 19th 2022 I had subm...</td>\n",
       "      <td>1.0</td>\n",
       "      <td>31st October 2022</td>\n",
       "      <td>United States</td>\n",
       "      <td>True</td>\n",
       "      <td>july th submitted complaint form regard fact b...</td>\n",
       "    </tr>\n",
       "    <tr>\n",
       "      <th>4</th>\n",
       "      <td>✅ Trip Verified |  I booked the flight on Oct ...</td>\n",
       "      <td>1.0</td>\n",
       "      <td>31st October 2022</td>\n",
       "      <td>United States</td>\n",
       "      <td>True</td>\n",
       "      <td>booked flight oct cancel flight day learning g...</td>\n",
       "    </tr>\n",
       "  </tbody>\n",
       "</table>\n",
       "</div>"
      ],
      "text/plain": [
       "                                             reviews  stars  \\\n",
       "0  Not Verified | Worst experience ever. Outbound...    5.0   \n",
       "1  ✅ Trip Verified |  Check in was a shambles at ...    1.0   \n",
       "2  ✅ Trip Verified | Beyond disgusted with the fa...    5.0   \n",
       "3  ✅ Trip Verified | On July 19th 2022 I had subm...    1.0   \n",
       "4  ✅ Trip Verified |  I booked the flight on Oct ...    1.0   \n",
       "\n",
       "                date               country  verified  \\\n",
       "0  7th November 2022                 Italy     False   \n",
       "1  7th November 2022              Malaysia      True   \n",
       "2  5th November 2022  United Arab Emirates      True   \n",
       "3  31st October 2022         United States      True   \n",
       "4  31st October 2022         United States      True   \n",
       "\n",
       "                                              corpus  \n",
       "0  verified worst experience ever outbound flight...  \n",
       "1  check shamble bwi counter open full flight bag...  \n",
       "2  beyond disgusted fact baggage yet delivered we...  \n",
       "3  july th submitted complaint form regard fact b...  \n",
       "4  booked flight oct cancel flight day learning g...  "
      ]
     },
     "execution_count": 11,
     "metadata": {},
     "output_type": "execute_result"
    }
   ],
   "source": [
    "df.head()"
   ]
  },
  {
   "cell_type": "code",
   "execution_count": 12,
   "id": "33f1a718-af12-4fa4-85ae-f5511e8986ae",
   "metadata": {},
   "outputs": [
    {
     "data": {
      "text/plain": [
       "reviews      object\n",
       "stars       float64\n",
       "date         object\n",
       "country      object\n",
       "verified       bool\n",
       "corpus       object\n",
       "dtype: object"
      ]
     },
     "execution_count": 12,
     "metadata": {},
     "output_type": "execute_result"
    }
   ],
   "source": [
    "df.dtypes"
   ]
  },
  {
   "cell_type": "code",
   "execution_count": 14,
   "id": "c773fca4-23ee-4f7d-a1db-8da648ddb161",
   "metadata": {},
   "outputs": [
    {
     "name": "stdout",
     "output_type": "stream",
     "text": [
      "                                                reviews  stars       date  \\\n",
      "0     Not Verified | Worst experience ever. Outbound...    5.0 2022-11-07   \n",
      "1     ✅ Trip Verified |  Check in was a shambles at ...    1.0 2022-11-07   \n",
      "2     ✅ Trip Verified | Beyond disgusted with the fa...    5.0 2022-11-05   \n",
      "3     ✅ Trip Verified | On July 19th 2022 I had subm...    1.0 2022-10-31   \n",
      "4     ✅ Trip Verified |  I booked the flight on Oct ...    1.0 2022-10-31   \n",
      "...                                                 ...    ...        ...   \n",
      "3413  This was a bmi Regional operated flight on a R...    1.0 2012-08-29   \n",
      "3414  LHR to HAM. Purser addresses all club passenge...   10.0 2012-08-28   \n",
      "3415  My son who had worked for British Airways urge...   10.0 2011-10-12   \n",
      "3416  London City-New York JFK via Shannon on A318 b...    8.0 2011-10-11   \n",
      "3417  SIN-LHR BA12 B747-436 First Class. Old aircraf...    9.0 2011-10-09   \n",
      "\n",
      "                   country  verified  \\\n",
      "0                    Italy     False   \n",
      "1                 Malaysia      True   \n",
      "2     United Arab Emirates      True   \n",
      "3            United States      True   \n",
      "4            United States      True   \n",
      "...                    ...       ...   \n",
      "3413        United Kingdom     False   \n",
      "3414        United Kingdom     False   \n",
      "3415        United Kingdom     False   \n",
      "3416         United States     False   \n",
      "3417        United Kingdom     False   \n",
      "\n",
      "                                                 corpus  \n",
      "0     verified worst experience ever outbound flight...  \n",
      "1     check shamble bwi counter open full flight bag...  \n",
      "2     beyond disgusted fact baggage yet delivered we...  \n",
      "3     july th submitted complaint form regard fact b...  \n",
      "4     booked flight oct cancel flight day learning g...  \n",
      "...                                                 ...  \n",
      "3413  bmi regional operated flight rj manchester hea...  \n",
      "3414  lhr ham purser address club passenger name boa...  \n",
      "3415  son worked british airway urged fly british ai...  \n",
      "3416  london city new york jfk via shannon really ni...  \n",
      "3417  sin lhr ba b first class old aircraft seat pri...  \n",
      "\n",
      "[3418 rows x 6 columns]\n"
     ]
    }
   ],
   "source": [
    "# Function to remove ordinal suffixes\n",
    "def remove_ordinal_suffix(date_str):\n",
    "    return re.sub(r'(\\d+)(st|nd|rd|th)', r'\\1', date_str)\n",
    "\n",
    "# Apply the function to the 'date' column\n",
    "df['date'] = df['date'].apply(remove_ordinal_suffix)\n",
    "\n",
    "# Now convert to datetime\n",
    "df['date'] = pd.to_datetime(df['date'], format='%d %B %Y')\n",
    "\n",
    "# Check the result\n",
    "print(df)"
   ]
  },
  {
   "cell_type": "code",
   "execution_count": 15,
   "id": "0440c89e-9a89-4ef4-888f-eb25ad833afb",
   "metadata": {},
   "outputs": [
    {
     "data": {
      "text/plain": [
       "0   2022-11-07\n",
       "1   2022-11-07\n",
       "2   2022-11-05\n",
       "3   2022-10-31\n",
       "4   2022-10-31\n",
       "Name: date, dtype: datetime64[ns]"
      ]
     },
     "execution_count": 15,
     "metadata": {},
     "output_type": "execute_result"
    }
   ],
   "source": [
    "df.date.head()"
   ]
  },
  {
   "cell_type": "code",
   "execution_count": 16,
   "id": "4f535799-1f5a-43d2-a858-5639f35b073c",
   "metadata": {},
   "outputs": [
    {
     "data": {
      "text/plain": [
       "array([ 5.,  1.,  6.,  9.,  3.,  2.,  8.,  7., 10.,  4., nan])"
      ]
     },
     "execution_count": 16,
     "metadata": {},
     "output_type": "execute_result"
    }
   ],
   "source": [
    "#check for unique values\n",
    "df.stars.unique()"
   ]
  },
  {
   "cell_type": "code",
   "execution_count": 18,
   "id": "5664b1c3-17d3-4f54-8799-388443a6242d",
   "metadata": {},
   "outputs": [],
   "source": [
    "df['stars'] = df['stars'].fillna('').astype(str).str.strip(\"\\n\\t\")"
   ]
  },
  {
   "cell_type": "code",
   "execution_count": 19,
   "id": "9cbfaa06-b519-4ce1-bb50-420692a923d6",
   "metadata": {},
   "outputs": [
    {
     "data": {
      "text/plain": [
       "stars\n",
       "1.0     735\n",
       "2.0     382\n",
       "3.0     379\n",
       "8.0     349\n",
       "10.0    306\n",
       "7.0     300\n",
       "9.0     294\n",
       "5.0     259\n",
       "4.0     227\n",
       "6.0     182\n",
       "          5\n",
       "Name: count, dtype: int64"
      ]
     },
     "execution_count": 19,
     "metadata": {},
     "output_type": "execute_result"
    }
   ],
   "source": [
    "df.stars.value_counts()"
   ]
  },
  {
   "cell_type": "code",
   "execution_count": 20,
   "id": "e5d3e147-b454-4515-8b14-54e4ec756b1c",
   "metadata": {},
   "outputs": [],
   "source": [
    "# drop the rows where the value of ratings is None\n",
    "df.drop(df[df.stars == \"None\"].index, axis=0, inplace=True)"
   ]
  },
  {
   "cell_type": "code",
   "execution_count": 21,
   "id": "e152aed3-2da4-4ee9-90dc-d2bd3553d870",
   "metadata": {},
   "outputs": [
    {
     "data": {
      "text/plain": [
       "array(['5.0', '1.0', '6.0', '9.0', '3.0', '2.0', '8.0', '7.0', '10.0',\n",
       "       '4.0', ''], dtype=object)"
      ]
     },
     "execution_count": 21,
     "metadata": {},
     "output_type": "execute_result"
    }
   ],
   "source": [
    "#check the unique values again\n",
    "df.stars.unique()"
   ]
  },
  {
   "cell_type": "code",
   "execution_count": 22,
   "id": "e81950f2-0cb3-4c1a-9859-233f4c3304d7",
   "metadata": {},
   "outputs": [
    {
     "data": {
      "text/plain": [
       "reviews  stars  date   country  verified  corpus\n",
       "False    False  False  False    False     False     3416\n",
       "                       True     False     False        2\n",
       "Name: count, dtype: int64"
      ]
     },
     "execution_count": 22,
     "metadata": {},
     "output_type": "execute_result"
    }
   ],
   "source": [
    "df.isnull().value_counts()"
   ]
  },
  {
   "cell_type": "code",
   "execution_count": 23,
   "id": "7c53f6a8-3f14-4711-a11a-a99f72015431",
   "metadata": {},
   "outputs": [
    {
     "data": {
      "text/plain": [
       "country\n",
       "False    3416\n",
       "True        2\n",
       "Name: count, dtype: int64"
      ]
     },
     "execution_count": 23,
     "metadata": {},
     "output_type": "execute_result"
    }
   ],
   "source": [
    "df.country.isnull().value_counts()"
   ]
  },
  {
   "cell_type": "code",
   "execution_count": 24,
   "id": "98b5b16a-c25d-475b-8894-e680323195eb",
   "metadata": {},
   "outputs": [],
   "source": [
    "#drop the rows using index where the country value is null\n",
    "df.drop(df[df.country.isnull() == True].index, axis=0, inplace=True)"
   ]
  },
  {
   "cell_type": "code",
   "execution_count": 25,
   "id": "116656f9-0f7a-4d79-8f69-7f4fbf711eca",
   "metadata": {},
   "outputs": [
    {
     "data": {
      "text/plain": [
       "(3416, 6)"
      ]
     },
     "execution_count": 25,
     "metadata": {},
     "output_type": "execute_result"
    }
   ],
   "source": [
    "df.shape"
   ]
  },
  {
   "cell_type": "code",
   "execution_count": 26,
   "id": "54a2b64d-4730-44f3-b40c-409d098f78f9",
   "metadata": {},
   "outputs": [
    {
     "data": {
      "text/html": [
       "<div>\n",
       "<style scoped>\n",
       "    .dataframe tbody tr th:only-of-type {\n",
       "        vertical-align: middle;\n",
       "    }\n",
       "\n",
       "    .dataframe tbody tr th {\n",
       "        vertical-align: top;\n",
       "    }\n",
       "\n",
       "    .dataframe thead th {\n",
       "        text-align: right;\n",
       "    }\n",
       "</style>\n",
       "<table border=\"1\" class=\"dataframe\">\n",
       "  <thead>\n",
       "    <tr style=\"text-align: right;\">\n",
       "      <th></th>\n",
       "      <th>reviews</th>\n",
       "      <th>stars</th>\n",
       "      <th>date</th>\n",
       "      <th>country</th>\n",
       "      <th>verified</th>\n",
       "      <th>corpus</th>\n",
       "    </tr>\n",
       "  </thead>\n",
       "  <tbody>\n",
       "    <tr>\n",
       "      <th>0</th>\n",
       "      <td>Not Verified | Worst experience ever. Outbound...</td>\n",
       "      <td>5.0</td>\n",
       "      <td>2022-11-07</td>\n",
       "      <td>Italy</td>\n",
       "      <td>False</td>\n",
       "      <td>verified worst experience ever outbound flight...</td>\n",
       "    </tr>\n",
       "    <tr>\n",
       "      <th>1</th>\n",
       "      <td>✅ Trip Verified |  Check in was a shambles at ...</td>\n",
       "      <td>1.0</td>\n",
       "      <td>2022-11-07</td>\n",
       "      <td>Malaysia</td>\n",
       "      <td>True</td>\n",
       "      <td>check shamble bwi counter open full flight bag...</td>\n",
       "    </tr>\n",
       "    <tr>\n",
       "      <th>2</th>\n",
       "      <td>✅ Trip Verified | Beyond disgusted with the fa...</td>\n",
       "      <td>5.0</td>\n",
       "      <td>2022-11-05</td>\n",
       "      <td>United Arab Emirates</td>\n",
       "      <td>True</td>\n",
       "      <td>beyond disgusted fact baggage yet delivered we...</td>\n",
       "    </tr>\n",
       "    <tr>\n",
       "      <th>3</th>\n",
       "      <td>✅ Trip Verified | On July 19th 2022 I had subm...</td>\n",
       "      <td>1.0</td>\n",
       "      <td>2022-10-31</td>\n",
       "      <td>United States</td>\n",
       "      <td>True</td>\n",
       "      <td>july th submitted complaint form regard fact b...</td>\n",
       "    </tr>\n",
       "    <tr>\n",
       "      <th>4</th>\n",
       "      <td>✅ Trip Verified |  I booked the flight on Oct ...</td>\n",
       "      <td>1.0</td>\n",
       "      <td>2022-10-31</td>\n",
       "      <td>United States</td>\n",
       "      <td>True</td>\n",
       "      <td>booked flight oct cancel flight day learning g...</td>\n",
       "    </tr>\n",
       "    <tr>\n",
       "      <th>...</th>\n",
       "      <td>...</td>\n",
       "      <td>...</td>\n",
       "      <td>...</td>\n",
       "      <td>...</td>\n",
       "      <td>...</td>\n",
       "      <td>...</td>\n",
       "    </tr>\n",
       "    <tr>\n",
       "      <th>3411</th>\n",
       "      <td>This was a bmi Regional operated flight on a R...</td>\n",
       "      <td>1.0</td>\n",
       "      <td>2012-08-29</td>\n",
       "      <td>United Kingdom</td>\n",
       "      <td>False</td>\n",
       "      <td>bmi regional operated flight rj manchester hea...</td>\n",
       "    </tr>\n",
       "    <tr>\n",
       "      <th>3412</th>\n",
       "      <td>LHR to HAM. Purser addresses all club passenge...</td>\n",
       "      <td>10.0</td>\n",
       "      <td>2012-08-28</td>\n",
       "      <td>United Kingdom</td>\n",
       "      <td>False</td>\n",
       "      <td>lhr ham purser address club passenger name boa...</td>\n",
       "    </tr>\n",
       "    <tr>\n",
       "      <th>3413</th>\n",
       "      <td>My son who had worked for British Airways urge...</td>\n",
       "      <td>10.0</td>\n",
       "      <td>2011-10-12</td>\n",
       "      <td>United Kingdom</td>\n",
       "      <td>False</td>\n",
       "      <td>son worked british airway urged fly british ai...</td>\n",
       "    </tr>\n",
       "    <tr>\n",
       "      <th>3414</th>\n",
       "      <td>London City-New York JFK via Shannon on A318 b...</td>\n",
       "      <td>8.0</td>\n",
       "      <td>2011-10-11</td>\n",
       "      <td>United States</td>\n",
       "      <td>False</td>\n",
       "      <td>london city new york jfk via shannon really ni...</td>\n",
       "    </tr>\n",
       "    <tr>\n",
       "      <th>3415</th>\n",
       "      <td>SIN-LHR BA12 B747-436 First Class. Old aircraf...</td>\n",
       "      <td>9.0</td>\n",
       "      <td>2011-10-09</td>\n",
       "      <td>United Kingdom</td>\n",
       "      <td>False</td>\n",
       "      <td>sin lhr ba b first class old aircraft seat pri...</td>\n",
       "    </tr>\n",
       "  </tbody>\n",
       "</table>\n",
       "<p>3416 rows × 6 columns</p>\n",
       "</div>"
      ],
      "text/plain": [
       "                                                reviews stars       date  \\\n",
       "0     Not Verified | Worst experience ever. Outbound...   5.0 2022-11-07   \n",
       "1     ✅ Trip Verified |  Check in was a shambles at ...   1.0 2022-11-07   \n",
       "2     ✅ Trip Verified | Beyond disgusted with the fa...   5.0 2022-11-05   \n",
       "3     ✅ Trip Verified | On July 19th 2022 I had subm...   1.0 2022-10-31   \n",
       "4     ✅ Trip Verified |  I booked the flight on Oct ...   1.0 2022-10-31   \n",
       "...                                                 ...   ...        ...   \n",
       "3411  This was a bmi Regional operated flight on a R...   1.0 2012-08-29   \n",
       "3412  LHR to HAM. Purser addresses all club passenge...  10.0 2012-08-28   \n",
       "3413  My son who had worked for British Airways urge...  10.0 2011-10-12   \n",
       "3414  London City-New York JFK via Shannon on A318 b...   8.0 2011-10-11   \n",
       "3415  SIN-LHR BA12 B747-436 First Class. Old aircraf...   9.0 2011-10-09   \n",
       "\n",
       "                   country  verified  \\\n",
       "0                    Italy     False   \n",
       "1                 Malaysia      True   \n",
       "2     United Arab Emirates      True   \n",
       "3            United States      True   \n",
       "4            United States      True   \n",
       "...                    ...       ...   \n",
       "3411        United Kingdom     False   \n",
       "3412        United Kingdom     False   \n",
       "3413        United Kingdom     False   \n",
       "3414         United States     False   \n",
       "3415        United Kingdom     False   \n",
       "\n",
       "                                                 corpus  \n",
       "0     verified worst experience ever outbound flight...  \n",
       "1     check shamble bwi counter open full flight bag...  \n",
       "2     beyond disgusted fact baggage yet delivered we...  \n",
       "3     july th submitted complaint form regard fact b...  \n",
       "4     booked flight oct cancel flight day learning g...  \n",
       "...                                                 ...  \n",
       "3411  bmi regional operated flight rj manchester hea...  \n",
       "3412  lhr ham purser address club passenger name boa...  \n",
       "3413  son worked british airway urged fly british ai...  \n",
       "3414  london city new york jfk via shannon really ni...  \n",
       "3415  sin lhr ba b first class old aircraft seat pri...  \n",
       "\n",
       "[3416 rows x 6 columns]"
      ]
     },
     "execution_count": 26,
     "metadata": {},
     "output_type": "execute_result"
    }
   ],
   "source": [
    "#resetting the index\n",
    "df.reset_index(drop=True)"
   ]
  },
  {
   "cell_type": "markdown",
   "id": "9fa4efa3-5d41-4fa7-a5ac-a959e322fcc9",
   "metadata": {},
   "source": [
    "*****"
   ]
  },
  {
   "cell_type": "code",
   "execution_count": 117,
   "id": "d9f0183c-e72a-4028-9c9a-1f3dee87c342",
   "metadata": {},
   "outputs": [],
   "source": [
    "# export the cleaned data\n",
    "\n",
    "df.to_csv(cwd + \"/cleaned-BA-reviews.csv\")"
   ]
  },
  {
   "cell_type": "code",
   "execution_count": null,
   "id": "4f9bad2f-721b-445a-86f9-bc9e16c177ce",
   "metadata": {},
   "outputs": [],
   "source": []
  }
 ],
 "metadata": {
  "kernelspec": {
   "display_name": "Python 3 (ipykernel)",
   "language": "python",
   "name": "python3"
  },
  "language_info": {
   "codemirror_mode": {
    "name": "ipython",
    "version": 3
   },
   "file_extension": ".py",
   "mimetype": "text/x-python",
   "name": "python",
   "nbconvert_exporter": "python",
   "pygments_lexer": "ipython3",
   "version": "3.11.2"
  }
 },
 "nbformat": 4,
 "nbformat_minor": 5
}
